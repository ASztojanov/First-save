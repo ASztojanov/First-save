{
  "nbformat": 4,
  "nbformat_minor": 0,
  "metadata": {
    "colab": {
      "provenance": [],
      "authorship_tag": "ABX9TyPJgj0N1kNu3Z+aZWRruI7o",
      "include_colab_link": true
    },
    "kernelspec": {
      "name": "python3",
      "display_name": "Python 3"
    },
    "language_info": {
      "name": "python"
    }
  },
  "cells": [
    {
      "cell_type": "markdown",
      "metadata": {
        "id": "view-in-github",
        "colab_type": "text"
      },
      "source": [
        "<a href=\"https://colab.research.google.com/github/ASztojanov/First-save/blob/main/Untitled0.ipynb\" target=\"_parent\"><img src=\"https://colab.research.google.com/assets/colab-badge.svg\" alt=\"Open In Colab\"/></a>"
      ]
    },
    {
      "cell_type": "code",
      "source": [],
      "metadata": {
        "id": "mwoUKjZMN5Bd"
      },
      "execution_count": null,
      "outputs": []
    },
    {
      "cell_type": "code",
      "source": [
        "print (\"Hello world\")"
      ],
      "metadata": {
        "colab": {
          "base_uri": "https://localhost:8080/"
        },
        "id": "9N9yO78lT2pA",
        "outputId": "64fccc34-81a8-41b7-8bec-fa24b73deb3c"
      },
      "execution_count": null,
      "outputs": [
        {
          "output_type": "stream",
          "name": "stdout",
          "text": [
            "Hello world\n"
          ]
        }
      ]
    },
    {
      "cell_type": "code",
      "source": [
        "x=4\n",
        "if x%2 ==0:\n",
        "  print(\"This is an even number\")"
      ],
      "metadata": {
        "colab": {
          "base_uri": "https://localhost:8080/",
          "height": 0
        },
        "id": "YvZt0CWgLKzW",
        "outputId": "95838ff9-0aaa-4742-8551-f6d003c563e5"
      },
      "execution_count": 12,
      "outputs": [
        {
          "output_type": "stream",
          "name": "stdout",
          "text": [
            "This is an even number\n"
          ]
        }
      ]
    },
    {
      "cell_type": "code",
      "source": [
        "x=0.2\n",
        "if x%2==0:\n",
        "  print(\"This is an even number!\")\n",
        "else:\n",
        "  print(\"This is an odd number\")"
      ],
      "metadata": {
        "id": "G57D8jCMWWqJ",
        "colab": {
          "base_uri": "https://localhost:8080/",
          "height": 0
        },
        "outputId": "f005cd69-39cb-45f4-dd4b-70a6329bd52c"
      },
      "execution_count": 14,
      "outputs": [
        {
          "output_type": "stream",
          "name": "stdout",
          "text": [
            "This is an odd number\n"
          ]
        }
      ]
    },
    {
      "cell_type": "code",
      "source": [
        "a=12\n",
        "b=13\n",
        "if a<b:\n",
        "  print(\"the first value is smaller than the second\")\n",
        "elif a==b:\n",
        "  print(\"The first value is equal to the second\")\n",
        "else:\n",
        "  print(\"The first value is greater than the second\")   \n",
        "\n",
        " "
      ],
      "metadata": {
        "colab": {
          "base_uri": "https://localhost:8080/",
          "height": 0
        },
        "id": "ghajsSHUOxAv",
        "outputId": "4e9896bb-0fae-4a91-81b0-4ff19b4f375d"
      },
      "execution_count": 16,
      "outputs": [
        {
          "output_type": "stream",
          "name": "stdout",
          "text": [
            "the first value is smaller than the second\n"
          ]
        }
      ]
    },
    {
      "cell_type": "code",
      "source": [
        "a=-0.1\n",
        "if a>0:\n",
        "  print(\"The number is positive\")\n",
        "elif a<0:\n",
        "  print(\"The number is negative\")  \n",
        "else:\n",
        "  print(\"The number is zero\")  "
      ],
      "metadata": {
        "colab": {
          "base_uri": "https://localhost:8080/",
          "height": 0
        },
        "id": "1y8dtQ3uQTwz",
        "outputId": "f5fc91c6-6cb9-4bda-f28d-a5a95a86ff06"
      },
      "execution_count": 21,
      "outputs": [
        {
          "output_type": "stream",
          "name": "stdout",
          "text": [
            "The number is negative\n"
          ]
        }
      ]
    },
    {
      "cell_type": "code",
      "source": [],
      "metadata": {
        "id": "BDrHXah7N9ER"
      },
      "execution_count": null,
      "outputs": []
    },
    {
      "cell_type": "code",
      "source": [
        "for i in range(0,11):\n",
        "  print(i)"
      ],
      "metadata": {
        "colab": {
          "base_uri": "https://localhost:8080/",
          "height": 0
        },
        "id": "mADv795SRk7_",
        "outputId": "30b9814a-a82e-464a-c986-c4e6e5591bb8"
      },
      "execution_count": 22,
      "outputs": [
        {
          "output_type": "stream",
          "name": "stdout",
          "text": [
            "0\n",
            "1\n",
            "2\n",
            "3\n",
            "4\n",
            "5\n",
            "6\n",
            "7\n",
            "8\n",
            "9\n",
            "10\n"
          ]
        }
      ]
    },
    {
      "cell_type": "code",
      "source": [
        "for i in range(0,11):\n",
        "  print(\"The iteration number is {}\".format(i))"
      ],
      "metadata": {
        "colab": {
          "base_uri": "https://localhost:8080/",
          "height": 0
        },
        "id": "DOaOYDSpR6vx",
        "outputId": "690829b4-3735-4307-9760-c8be04d07408"
      },
      "execution_count": 23,
      "outputs": [
        {
          "output_type": "stream",
          "name": "stdout",
          "text": [
            "The iteration number is 0\n",
            "The iteration number is 1\n",
            "The iteration number is 2\n",
            "The iteration number is 3\n",
            "The iteration number is 4\n",
            "The iteration number is 5\n",
            "The iteration number is 6\n",
            "The iteration number is 7\n",
            "The iteration number is 8\n",
            "The iteration number is 9\n",
            "The iteration number is 10\n"
          ]
        }
      ]
    },
    {
      "cell_type": "code",
      "source": [
        "targetvalue  =10\n",
        "iterate =0\n",
        "while iterate<targetvalue:\n",
        "  print(\"iteration no is {}, which is less than the target value {}\".format(iterate,targetvalue))\n",
        "  iterate =iterate+1\n",
        "print(\"THE END!\")"
      ],
      "metadata": {
        "colab": {
          "base_uri": "https://localhost:8080/",
          "height": 0
        },
        "id": "uHvVqs9dThGQ",
        "outputId": "9aa6a9ec-a056-429c-dd05-56db5c0226c5"
      },
      "execution_count": 30,
      "outputs": [
        {
          "output_type": "stream",
          "name": "stdout",
          "text": [
            "iteration no is 0, which is less than the target value 10\n",
            "iteration no is 1, which is less than the target value 10\n",
            "iteration no is 2, which is less than the target value 10\n",
            "iteration no is 3, which is less than the target value 10\n",
            "iteration no is 4, which is less than the target value 10\n",
            "iteration no is 5, which is less than the target value 10\n",
            "iteration no is 6, which is less than the target value 10\n",
            "iteration no is 7, which is less than the target value 10\n",
            "iteration no is 8, which is less than the target value 10\n",
            "iteration no is 9, which is less than the target value 10\n",
            "THE END!\n"
          ]
        }
      ]
    },
    {
      "cell_type": "code",
      "source": [
        "colours =[\"Black\", \"Blue\", \"Red\", \"White\"]\n",
        "cars =[\"Range\", \"Tesla\", \"Ford\"]\n",
        "for colour in colours: #outer loop\n",
        "  for car in cars: #inner loop\n",
        "    print(colour, car)"
      ],
      "metadata": {
        "colab": {
          "base_uri": "https://localhost:8080/",
          "height": 0
        },
        "id": "bTIG5ITCVSYl",
        "outputId": "bcdff036-0ce4-4c85-8960-2ed14373cc8d"
      },
      "execution_count": 34,
      "outputs": [
        {
          "output_type": "stream",
          "name": "stdout",
          "text": [
            "Black Range\n",
            "Black Tesla\n",
            "Black Ford\n",
            "Blue Range\n",
            "Blue Tesla\n",
            "Blue Ford\n",
            "Red Range\n",
            "Red Tesla\n",
            "Red Ford\n",
            "White Range\n",
            "White Tesla\n",
            "White Ford\n"
          ]
        }
      ]
    },
    {
      "cell_type": "code",
      "source": [
        "for i in range(1,6):#outer loop\n",
        "  for j in range(1,11):#inner loop\n",
        "    print(i*j,end=\" \")\n",
        "  print()"
      ],
      "metadata": {
        "colab": {
          "base_uri": "https://localhost:8080/",
          "height": 0
        },
        "id": "KU-Ju1txXTO9",
        "outputId": "7c0e5a3d-051d-44cb-d282-e915d8e43884"
      },
      "execution_count": 46,
      "outputs": [
        {
          "output_type": "stream",
          "name": "stdout",
          "text": [
            "1 2 3 4 5 6 7 8 9 10 \n",
            "2 4 6 8 10 12 14 16 18 20 \n",
            "3 6 9 12 15 18 21 24 27 30 \n",
            "4 8 12 16 20 24 28 32 36 40 \n",
            "5 10 15 20 25 30 35 40 45 50 \n"
          ]
        }
      ]
    },
    {
      "cell_type": "code",
      "source": [
        "targetvalue =5\n",
        "iterate =0\n",
        "while iterate<targetvalue:\n",
        "  print(\"Iteration number is {}, which is less than target value {}\".format(iterate,targetvalue))\n",
        "  if iterate==5:\n",
        "   break\n",
        "  iterate = iterate+1"
      ],
      "metadata": {
        "colab": {
          "base_uri": "https://localhost:8080/",
          "height": 0
        },
        "id": "qMwZ-8dcZyC8",
        "outputId": "dd0ebc81-0681-4d43-f927-1f5f7b175427"
      },
      "execution_count": 52,
      "outputs": [
        {
          "output_type": "stream",
          "name": "stdout",
          "text": [
            "Iteration number is 0, which is less than target value 5\n",
            "Iteration number is 1, which is less than target value 5\n",
            "Iteration number is 2, which is less than target value 5\n",
            "Iteration number is 3, which is less than target value 5\n",
            "Iteration number is 4, which is less than target value 5\n"
          ]
        }
      ]
    },
    {
      "cell_type": "code",
      "source": [
        "names=[\"Sylvie\", \"Mercy\", \"Kate\", \"Zara\"]\n",
        "for name in names:\n",
        "  if name == \"Kate\":\n",
        "   continue\n",
        "  print(i) "
      ],
      "metadata": {
        "colab": {
          "base_uri": "https://localhost:8080/",
          "height": 0
        },
        "id": "KU212YnkdDao",
        "outputId": "ff1e43bf-a6e1-4bc2-fc18-ab29f25e47aa"
      },
      "execution_count": 60,
      "outputs": [
        {
          "output_type": "stream",
          "name": "stdout",
          "text": [
            "5\n",
            "5\n",
            "5\n"
          ]
        }
      ]
    },
    {
      "cell_type": "markdown",
      "source": [
        "# **LISTS**"
      ],
      "metadata": {
        "id": "EZCNKArxkCH-"
      }
    },
    {
      "cell_type": "code",
      "source": [
        "mylist=[\"Michael\", \"Sean\", \"Adam\"]\n",
        "type(mylist)"
      ],
      "metadata": {
        "colab": {
          "base_uri": "https://localhost:8080/",
          "height": 0
        },
        "id": "ZQfk2wJ1kMu2",
        "outputId": "3f6ea25a-2dd2-45f5-b928-c1486c8e460b"
      },
      "execution_count": 67,
      "outputs": [
        {
          "output_type": "execute_result",
          "data": {
            "text/plain": [
              "list"
            ]
          },
          "metadata": {},
          "execution_count": 67
        }
      ]
    },
    {
      "cell_type": "code",
      "source": [],
      "metadata": {
        "id": "l2C7xrPwkyo2"
      },
      "execution_count": null,
      "outputs": []
    },
    {
      "cell_type": "code",
      "source": [
        "mylist=[\"Michael\", \"Sean\", \"Adam\"]\n",
        "mylist.insert(0, \"Zara\")\n",
        "print(mylist)"
      ],
      "metadata": {
        "colab": {
          "base_uri": "https://localhost:8080/",
          "height": 0
        },
        "id": "wKl6B4AKkk98",
        "outputId": "335f252e-d941-4966-fd91-8d8b5d1b9adc"
      },
      "execution_count": 68,
      "outputs": [
        {
          "output_type": "stream",
          "name": "stdout",
          "text": [
            "['Zara', 'Michael', 'Sean', 'Adam']\n"
          ]
        }
      ]
    },
    {
      "cell_type": "code",
      "source": [
        "mylist=[\"Michael\", \"Sean\", \"Adam\"]\n",
        "mylist.append(\"Paul\")\n",
        "print(mylist)"
      ],
      "metadata": {
        "colab": {
          "base_uri": "https://localhost:8080/",
          "height": 0
        },
        "id": "3Xh4TCU-lVKl",
        "outputId": "d195cd45-d606-4f36-c1a8-4af34f28f8aa"
      },
      "execution_count": 71,
      "outputs": [
        {
          "output_type": "stream",
          "name": "stdout",
          "text": [
            "['Michael', 'Sean', 'Adam', 'Paul']\n"
          ]
        }
      ]
    },
    {
      "cell_type": "code",
      "source": [
        "mylist1=[\"Michael\", \"Sean\", \"Adam\"]\n",
        "mylist2=[\"Zara\", \"Elina\", \"John\"]\n",
        "mylist2.extend(mylist1)\n",
        "print(mylist1)"
      ],
      "metadata": {
        "colab": {
          "base_uri": "https://localhost:8080/",
          "height": 0
        },
        "id": "vmQC2zpImC-z",
        "outputId": "29f48efb-467c-4397-e077-34562491d731"
      },
      "execution_count": 72,
      "outputs": [
        {
          "output_type": "stream",
          "name": "stdout",
          "text": [
            "['Michael', 'Sean', 'Adam']\n"
          ]
        }
      ]
    },
    {
      "cell_type": "code",
      "source": [],
      "metadata": {
        "id": "mrR4oc5lnk-6"
      },
      "execution_count": null,
      "outputs": []
    },
    {
      "cell_type": "code",
      "source": [
        "mylist=[\"Michael\", \"Sean\", \"Adam\"]\n",
        "mylist.pop()\n",
        "print(mylist)"
      ],
      "metadata": {
        "colab": {
          "base_uri": "https://localhost:8080/",
          "height": 0
        },
        "id": "kMlnMfzDmvfQ",
        "outputId": "3c65429b-173b-4d63-8d15-9dec94b145c3"
      },
      "execution_count": 73,
      "outputs": [
        {
          "output_type": "stream",
          "name": "stdout",
          "text": [
            "['Michael', 'Sean']\n"
          ]
        }
      ]
    },
    {
      "cell_type": "code",
      "source": [
        "mylist1=[\"Michael\", \"Sean\", \"Adam\"]\n",
        "mylist.sort(reverse=True)\n",
        "print(mylist)"
      ],
      "metadata": {
        "colab": {
          "base_uri": "https://localhost:8080/",
          "height": 0
        },
        "id": "C14xdYTKnDCD",
        "outputId": "04e32c13-efe2-438c-a88d-f5663531ce5a"
      },
      "execution_count": 74,
      "outputs": [
        {
          "output_type": "stream",
          "name": "stdout",
          "text": [
            "['Sean', 'Michael']\n"
          ]
        }
      ]
    },
    {
      "cell_type": "code",
      "source": [
        "mylist1=[\"Michael\", \"Sean\", \"Adam\"]\n",
        "mylist2=[\"Zara\", \"Elina\", \"John\"]\n",
        "print(mylist2+mylist1)"
      ],
      "metadata": {
        "colab": {
          "base_uri": "https://localhost:8080/",
          "height": 0
        },
        "id": "fby-AtLPnfIC",
        "outputId": "b03e5ef7-0b7e-4e76-ccbc-12843493bb71"
      },
      "execution_count": 75,
      "outputs": [
        {
          "output_type": "stream",
          "name": "stdout",
          "text": [
            "['Zara', 'Elina', 'John', 'Michael', 'Sean', 'Adam']\n"
          ]
        }
      ]
    },
    {
      "cell_type": "code",
      "source": [
        "mylist=[\"Barclays\", \"Lloyds\", \"Santander\"]\n",
        "mylist.sort(reverse=True)\n",
        "print(mylist)"
      ],
      "metadata": {
        "colab": {
          "base_uri": "https://localhost:8080/",
          "height": 0
        },
        "id": "Aa9Z4X--ouJs",
        "outputId": "18ee92d6-ca33-49ae-8ffd-0a2e034a1bd6"
      },
      "execution_count": 77,
      "outputs": [
        {
          "output_type": "stream",
          "name": "stdout",
          "text": [
            "['Santander', 'Lloyds', 'Barclays']\n"
          ]
        }
      ]
    },
    {
      "cell_type": "code",
      "source": [
        "mylist= [\"apple\", \"banana\", \"pinapple\", \"pear\", \"orange\", \"grapes\"]\n",
        "newitem=input(\"please enter the name of the fruit (small letter):\")\n",
        "if newitem in mylist:\n",
        "  print(\"The fruit exist\")\n",
        "else:\n",
        "  mylist.append(newitem)\n",
        "  print(mylist)  "
      ],
      "metadata": {
        "colab": {
          "base_uri": "https://localhost:8080/",
          "height": 0
        },
        "id": "chVvlyzDqT5f",
        "outputId": "97298081-3521-4b35-dc4c-ff4c9a03f7dd"
      },
      "execution_count": 79,
      "outputs": [
        {
          "output_type": "stream",
          "name": "stdout",
          "text": [
            "please enter the name of the fruit (small letter):pear\n",
            "The fruit exist\n"
          ]
        }
      ]
    },
    {
      "cell_type": "code",
      "source": [],
      "metadata": {
        "id": "u8jUhiTfrvep"
      },
      "execution_count": null,
      "outputs": []
    },
    {
      "cell_type": "code",
      "source": [
        "mylist= [\"apple\", \"banana\", \"pinapple\", \"pear\", \"orange\", \"grapes\"]\n",
        "for i in mylist:\n",
        "  print(i)"
      ],
      "metadata": {
        "colab": {
          "base_uri": "https://localhost:8080/",
          "height": 0
        },
        "id": "LXcWwnq8rzdJ",
        "outputId": "108bd1cf-6d61-496e-d5e9-ecbc6c1b4d20"
      },
      "execution_count": 83,
      "outputs": [
        {
          "output_type": "stream",
          "name": "stdout",
          "text": [
            "apple\n",
            "banana\n",
            "pinapple\n",
            "pear\n",
            "orange\n",
            "grapes\n"
          ]
        }
      ]
    },
    {
      "cell_type": "code",
      "source": [],
      "metadata": {
        "id": "CvJOaY1nsW0e"
      },
      "execution_count": null,
      "outputs": []
    },
    {
      "cell_type": "code",
      "source": [
        "mylist= [\"apple\", \"banana\", \"pinapple\", \"pear\", \"orange\", \"grapes\"]\n",
        "for i in range(len(mylist)):\n",
        "  print(i, mylist[i])"
      ],
      "metadata": {
        "colab": {
          "base_uri": "https://localhost:8080/",
          "height": 0
        },
        "id": "KxCYpp60saGl",
        "outputId": "923cf60b-7bdd-480f-a520-297c21b854ae"
      },
      "execution_count": 88,
      "outputs": [
        {
          "output_type": "stream",
          "name": "stdout",
          "text": [
            "0 apple\n",
            "1 banana\n",
            "2 pinapple\n",
            "3 pear\n",
            "4 orange\n",
            "5 grapes\n"
          ]
        }
      ]
    },
    {
      "cell_type": "code",
      "source": [
        "x=[1,2,3,4,5,6,7]#conventional method\n",
        "#y=2,4,6,8,10,12,14\n",
        "y=[]\n",
        "for i in x:\n",
        "  y.append(i*2)\n",
        "print(y)  \n"
      ],
      "metadata": {
        "colab": {
          "base_uri": "https://localhost:8080/",
          "height": 0
        },
        "id": "k2HWySmtvnCi",
        "outputId": "0b7137d7-2534-4706-8a84-6c71ae9b4728"
      },
      "execution_count": 92,
      "outputs": [
        {
          "output_type": "stream",
          "name": "stdout",
          "text": [
            "[2, 4, 6, 8, 10, 12, 14]\n"
          ]
        }
      ]
    },
    {
      "cell_type": "code",
      "source": [
        "x=[1,2,3,4,5,6,7]#comprehension method\n",
        "y=[i*2 for i in x]\n",
        "print(y)"
      ],
      "metadata": {
        "colab": {
          "base_uri": "https://localhost:8080/",
          "height": 0
        },
        "id": "hKO8aeUPwiiM",
        "outputId": "f72fc19a-a55e-4066-aef5-a8c294f4b58f"
      },
      "execution_count": 96,
      "outputs": [
        {
          "output_type": "stream",
          "name": "stdout",
          "text": [
            "[2, 4, 6, 8, 10, 12, 14]\n"
          ]
        }
      ]
    },
    {
      "cell_type": "code",
      "source": [
        "mylist=[1000,20,20120,50,95,1021] #conventional\n",
        "mynewlist=[]\n",
        "for i in mylist:\n",
        "  if i<100:\n",
        "    mynewlist.append(i)\n",
        "print(mynewlist)   "
      ],
      "metadata": {
        "colab": {
          "base_uri": "https://localhost:8080/",
          "height": 0
        },
        "id": "Gry6tsJcxXPU",
        "outputId": "fa6aa73a-500a-437e-f484-cbc70d92019d"
      },
      "execution_count": 100,
      "outputs": [
        {
          "output_type": "stream",
          "name": "stdout",
          "text": [
            "[20, 50, 95]\n"
          ]
        }
      ]
    },
    {
      "cell_type": "code",
      "source": [
        "mylist=[1000,20,20120,50,95,1021] #comprehension\n",
        "mynewlist=[i for i in mylist if i<100]\n",
        "print(mynewlist)"
      ],
      "metadata": {
        "colab": {
          "base_uri": "https://localhost:8080/",
          "height": 0
        },
        "id": "00MlekqEyRFq",
        "outputId": "f749bfd2-7898-4d28-ac0a-b90f248d59cc"
      },
      "execution_count": 101,
      "outputs": [
        {
          "output_type": "stream",
          "name": "stdout",
          "text": [
            "[20, 50, 95]\n"
          ]
        }
      ]
    },
    {
      "cell_type": "code",
      "source": [
        "mylist=[i for i in range(0,11)]\n",
        "print(mylist)"
      ],
      "metadata": {
        "colab": {
          "base_uri": "https://localhost:8080/",
          "height": 0
        },
        "id": "DN52j4XoywoH",
        "outputId": "b064e12f-d9f2-4630-bba5-ab78892b368f"
      },
      "execution_count": 103,
      "outputs": [
        {
          "output_type": "stream",
          "name": "stdout",
          "text": [
            "[0, 1, 2, 3, 4, 5, 6, 7, 8, 9, 10]\n"
          ]
        }
      ]
    },
    {
      "cell_type": "code",
      "source": [
        "mylist=[\"Michael\", \"Sean\", \"Adam\"]\n",
        "mynewlist=[i.upper() for i in mylist]\n",
        "print(mynewlist)"
      ],
      "metadata": {
        "colab": {
          "base_uri": "https://localhost:8080/",
          "height": 0
        },
        "id": "yNtMZlkBz0eg",
        "outputId": "be1388e6-fffb-4262-92e6-b94bf1bdef91"
      },
      "execution_count": 106,
      "outputs": [
        {
          "output_type": "stream",
          "name": "stdout",
          "text": [
            "['MICHAEL', 'SEAN', 'ADAM']\n"
          ]
        }
      ]
    },
    {
      "cell_type": "code",
      "source": [
        "mystring=[letter.upper() for letter in \"python\"]\n",
        "print(mystring)"
      ],
      "metadata": {
        "colab": {
          "base_uri": "https://localhost:8080/",
          "height": 0
        },
        "id": "6_EkZrP50ZyU",
        "outputId": "cae82681-46dd-4dbf-92fa-03d3ea36add0"
      },
      "execution_count": 107,
      "outputs": [
        {
          "output_type": "stream",
          "name": "stdout",
          "text": [
            "['P', 'Y', 'T', 'H', 'O', 'N']\n"
          ]
        }
      ]
    },
    {
      "cell_type": "code",
      "source": [
        "matrix=[[0,1,2],[3,4,5],[6,7,8],[9,10,11]]\n",
        "rows=len(matrix)\n",
        "cols=(len(matrix[0]))\n",
        "print(rows)\n",
        "print(cols)\n",
        "for i in range(0, rows):\n",
        "  print(matrix[i])"
      ],
      "metadata": {
        "colab": {
          "base_uri": "https://localhost:8080/",
          "height": 0
        },
        "id": "C0q_OPAV3OW3",
        "outputId": "e986e835-98d6-4b68-831b-c2583797bc69"
      },
      "execution_count": 118,
      "outputs": [
        {
          "output_type": "stream",
          "name": "stdout",
          "text": [
            "4\n",
            "3\n",
            "[0, 1, 2]\n",
            "[3, 4, 5]\n",
            "[6, 7, 8]\n",
            "[9, 10, 11]\n"
          ]
        }
      ]
    },
    {
      "cell_type": "code",
      "source": [
        "mydict={\"employee\": \"Zara\", \"department\": \"operations\", \"salary\": 5000}\n",
        "print(mydict[\"employee\"])"
      ],
      "metadata": {
        "colab": {
          "base_uri": "https://localhost:8080/",
          "height": 0
        },
        "id": "C6K6H_LW6xLy",
        "outputId": "5241a5c1-3520-460e-8f2e-0e232ebc109d"
      },
      "execution_count": 120,
      "outputs": [
        {
          "output_type": "stream",
          "name": "stdout",
          "text": [
            "Zara\n"
          ]
        }
      ]
    },
    {
      "cell_type": "code",
      "source": [
        "mydict={\"employee\": \"Zara\", \"department\": \"operations\", \"salary\": 5000}\n",
        "print(mydict.keys())"
      ],
      "metadata": {
        "colab": {
          "base_uri": "https://localhost:8080/",
          "height": 0
        },
        "id": "b5A4WRiC7dDj",
        "outputId": "07077085-2039-4a8c-d5eb-01ffe81ac549"
      },
      "execution_count": 121,
      "outputs": [
        {
          "output_type": "stream",
          "name": "stdout",
          "text": [
            "dict_keys(['employee', 'department', 'salary'])\n"
          ]
        }
      ]
    },
    {
      "cell_type": "code",
      "source": [
        "mydict={\"employee\": \"Zara\", \"department\": \"operations\", \"salary\": 5000}\n",
        "print(mydict.items())"
      ],
      "metadata": {
        "colab": {
          "base_uri": "https://localhost:8080/",
          "height": 0
        },
        "id": "H29Mkz-G7nrY",
        "outputId": "b91cd57c-30db-450a-f062-f224d0e1c289"
      },
      "execution_count": 122,
      "outputs": [
        {
          "output_type": "stream",
          "name": "stdout",
          "text": [
            "dict_items([('employee', 'Zara'), ('department', 'operations'), ('salary', 5000)])\n"
          ]
        }
      ]
    },
    {
      "cell_type": "code",
      "source": [],
      "metadata": {
        "id": "e4SBRpXI71F3"
      },
      "execution_count": null,
      "outputs": []
    },
    {
      "cell_type": "code",
      "source": [
        "\n",
        "mydict[\"department\"]=\"accounts\"mydict={\"employee\": \"Zara\", \"department\": \"operations\", \"salary\": 5000}\n",
        "print(mydict)"
      ],
      "metadata": {
        "colab": {
          "base_uri": "https://localhost:8080/",
          "height": 0
        },
        "id": "g9nSMlC374FL",
        "outputId": "0063965b-1239-4092-8b08-8fd1cc063fd0"
      },
      "execution_count": 123,
      "outputs": [
        {
          "output_type": "stream",
          "name": "stdout",
          "text": [
            "{'employee': 'Zara', 'department': 'accounts', 'salary': 5000}\n"
          ]
        }
      ]
    },
    {
      "cell_type": "code",
      "source": [
        "mydict={}\n",
        "print(len(mydict))"
      ],
      "metadata": {
        "colab": {
          "base_uri": "https://localhost:8080/",
          "height": 0
        },
        "id": "xwDLkyJw8P-8",
        "outputId": "0648f10d-c336-4817-9f6a-46b62c69239e"
      },
      "execution_count": 124,
      "outputs": [
        {
          "output_type": "stream",
          "name": "stdout",
          "text": [
            "3\n"
          ]
        }
      ]
    },
    {
      "cell_type": "code",
      "source": [
        "mydict={\n",
        "    1:{\"employee\": \"Zara\", \"department\": \"operations\", \"salary\": 5000},\n",
        "    2:{\"employee\": \"Zara\", \"department\": \"accounts\", \"salary\": 4000}\n",
        "    }\n",
        "mydict[2]    \n"
      ],
      "metadata": {
        "colab": {
          "base_uri": "https://localhost:8080/",
          "height": 0
        },
        "id": "JP7kqqqx8nbJ",
        "outputId": "d3b29510-8cb1-459b-d166-338c7a3d9217"
      },
      "execution_count": 129,
      "outputs": [
        {
          "output_type": "execute_result",
          "data": {
            "text/plain": [
              "{'employee': 'Zara', 'department': 'accounts', 'salary': 4000}"
            ]
          },
          "metadata": {},
          "execution_count": 129
        }
      ]
    },
    {
      "cell_type": "code",
      "source": [
        "mydict={\n",
        "    1:{\"employee\": \"Zara\", \"department\": \"operations\", \"salary\": 5000},\n",
        "    2:{\"employee\": \"Zara\", \"department\": \"accounts\", \"salary\": 4000}\n",
        "    }\n",
        "mydict[2][\"employee\"]    "
      ],
      "metadata": {
        "colab": {
          "base_uri": "https://localhost:8080/",
          "height": 35
        },
        "id": "Xq90O6yPAQUE",
        "outputId": "90ec35ce-99f2-4f50-eafb-97153c83eeb4"
      },
      "execution_count": 131,
      "outputs": [
        {
          "output_type": "execute_result",
          "data": {
            "text/plain": [
              "'Zara'"
            ],
            "application/vnd.google.colaboratory.intrinsic+json": {
              "type": "string"
            }
          },
          "metadata": {},
          "execution_count": 131
        }
      ]
    },
    {
      "cell_type": "code",
      "source": [
        "mydict={\"employee\": \"Zara\", \"department\": \"operations\", \"salary\": 5000}\n",
        "if \"employee\" in mydict:\n",
        "  print(\"Yes the key employee exist\")"
      ],
      "metadata": {
        "colab": {
          "base_uri": "https://localhost:8080/",
          "height": 0
        },
        "id": "qz6h62JeAmMb",
        "outputId": "3159f8d9-a8ed-4ccf-a4ae-1921890ab412"
      },
      "execution_count": 132,
      "outputs": [
        {
          "output_type": "stream",
          "name": "stdout",
          "text": [
            "Yes the key employee exist\n"
          ]
        }
      ]
    },
    {
      "cell_type": "code",
      "source": [
        "mydict={\"employee\": \"Zara\", \"department\": \"operations\", \"salary\": 5000}\n",
        "mydict.update({\"employee\":\"John\"})\n",
        "print(mydict)"
      ],
      "metadata": {
        "colab": {
          "base_uri": "https://localhost:8080/",
          "height": 0
        },
        "id": "6YgWbbSYBDVg",
        "outputId": "47f293ac-d96a-430e-c434-6d9d6caffd81"
      },
      "execution_count": 135,
      "outputs": [
        {
          "output_type": "stream",
          "name": "stdout",
          "text": [
            "{'employee': 'John', 'department': 'operations', 'salary': 5000}\n"
          ]
        }
      ]
    },
    {
      "cell_type": "code",
      "source": [
        "mydict={\"employee\": \"Zara\", \"department\": \"operations\", \"salary\": 5000}\n",
        "mydict.pop(\"salary\")\n",
        "print(mydict)"
      ],
      "metadata": {
        "colab": {
          "base_uri": "https://localhost:8080/",
          "height": 0
        },
        "id": "smPoVL1IBnM5",
        "outputId": "7add1efb-9e3f-4842-acf2-86bd64c77801"
      },
      "execution_count": 136,
      "outputs": [
        {
          "output_type": "stream",
          "name": "stdout",
          "text": [
            "{'employee': 'Zara', 'department': 'operations'}\n"
          ]
        }
      ]
    },
    {
      "cell_type": "code",
      "source": [
        "mydict={\"employee\": \"Zara\", \"department\": \"operations\", \"salary\": 5000}\n",
        "del mydict[\"salary\"]\n",
        "print(mydict)"
      ],
      "metadata": {
        "colab": {
          "base_uri": "https://localhost:8080/",
          "height": 0
        },
        "id": "EdKJOFZbCEap",
        "outputId": "76b5a1dd-4e50-4aaf-b15c-721d8e9c7e3d"
      },
      "execution_count": 137,
      "outputs": [
        {
          "output_type": "stream",
          "name": "stdout",
          "text": [
            "{'employee': 'Zara', 'department': 'operations'}\n"
          ]
        }
      ]
    },
    {
      "cell_type": "code",
      "source": [
        "mydict={\"employee\": \"Zara\", \"department\": \"operations\", \"salary\": 5000}\n",
        "mydict.clear()\n",
        "print(mydict)"
      ],
      "metadata": {
        "colab": {
          "base_uri": "https://localhost:8080/",
          "height": 0
        },
        "id": "IttHWKwNCbY7",
        "outputId": "9a59174b-20d7-497d-9244-22f3165429d1"
      },
      "execution_count": 138,
      "outputs": [
        {
          "output_type": "stream",
          "name": "stdout",
          "text": [
            "{}\n"
          ]
        }
      ]
    },
    {
      "cell_type": "code",
      "source": [
        "mydict={\"employee\": \"Zara\", \"department\": \"operations\", \"salary\": 5000}\n",
        "for i in mydict.keys():\n",
        "  print(i)"
      ],
      "metadata": {
        "colab": {
          "base_uri": "https://localhost:8080/",
          "height": 0
        },
        "id": "9zxJK-s8CzjR",
        "outputId": "b0198505-14c8-4420-96ff-26cd8885cf59"
      },
      "execution_count": 141,
      "outputs": [
        {
          "output_type": "stream",
          "name": "stdout",
          "text": [
            "employee\n",
            "department\n",
            "salary\n"
          ]
        }
      ]
    },
    {
      "cell_type": "code",
      "source": [
        "mydict={\"trousers\":\"ella\", \"skirt\":\"anita\", \"shirt\":\"jasmine\", \"cardigan\":\"georgia\"}\n",
        "del mydict[\"shirt\"]\n",
        "print(mydict)"
      ],
      "metadata": {
        "colab": {
          "base_uri": "https://localhost:8080/",
          "height": 0
        },
        "id": "2gwJorsYDmHC",
        "outputId": "c4e47e8a-7f17-45af-a99f-7b7b4d9ff6ba"
      },
      "execution_count": 144,
      "outputs": [
        {
          "output_type": "stream",
          "name": "stdout",
          "text": [
            "{'trousers': 'ella', 'skirt': 'anita', 'cardigan': 'georgia'}\n"
          ]
        }
      ]
    },
    {
      "cell_type": "code",
      "source": [
        "mydict={\"trousers\":\"ella\", \"skirt\":\"anita\", \"shirt\":\"jasmine\", \"cardigan\":\"georgia\"}\n",
        "mydict.update({\"skirt\":\"Zita\"})\n",
        "print(mydict)"
      ],
      "metadata": {
        "colab": {
          "base_uri": "https://localhost:8080/",
          "height": 0
        },
        "id": "TJfQ41OhEp5E",
        "outputId": "157e1e83-4fac-46a8-bf35-6a608e8d0981"
      },
      "execution_count": 145,
      "outputs": [
        {
          "output_type": "stream",
          "name": "stdout",
          "text": [
            "{'trousers': 'ella', 'skirt': 'Zita', 'shirt': 'jasmine', 'cardigan': 'georgia'}\n"
          ]
        }
      ]
    },
    {
      "cell_type": "markdown",
      "source": [
        "# **Tuple**"
      ],
      "metadata": {
        "id": "VznV_gGtF7hd"
      }
    },
    {
      "cell_type": "markdown",
      "source": [
        "Ordered, unchangeable, allows duplcates"
      ],
      "metadata": {
        "id": "FlbUT9zhGbNw"
      }
    },
    {
      "cell_type": "code",
      "source": [
        "mytuples=(\"Audi\", \"Ford\", \"Tesla\", 5000, True)\n",
        "mytuples[0:3]"
      ],
      "metadata": {
        "colab": {
          "base_uri": "https://localhost:8080/",
          "height": 0
        },
        "id": "CvnjSi5PGjsI",
        "outputId": "8f238f07-1c70-4554-d425-e06aa23d1dcd"
      },
      "execution_count": 148,
      "outputs": [
        {
          "output_type": "execute_result",
          "data": {
            "text/plain": [
              "('Audi', 'Ford', 'Tesla')"
            ]
          },
          "metadata": {},
          "execution_count": 148
        }
      ]
    },
    {
      "cell_type": "code",
      "source": [
        "mytuples=(\"Audi\", \"Ford\", \"Tesla\", 5000, True)\n",
        "type(mytuples)"
      ],
      "metadata": {
        "colab": {
          "base_uri": "https://localhost:8080/",
          "height": 0
        },
        "id": "q5EEuYGyHBDF",
        "outputId": "4907c6b6-2a22-455c-93ff-d53c6b5d0897"
      },
      "execution_count": 149,
      "outputs": [
        {
          "output_type": "execute_result",
          "data": {
            "text/plain": [
              "tuple"
            ]
          },
          "metadata": {},
          "execution_count": 149
        }
      ]
    },
    {
      "cell_type": "markdown",
      "source": [
        "# **Sets**"
      ],
      "metadata": {
        "id": "XDvQh_dtIZoI"
      }
    },
    {
      "cell_type": "markdown",
      "source": [
        "Unordered, unchangeable*, not allow duplicates{}"
      ],
      "metadata": {
        "id": "hLMEwfzrIds-"
      }
    },
    {
      "cell_type": "code",
      "source": [
        "myset={\"Audi\", \"Ford\", \"Tesla\", 5000, True}\n",
        "type(myset)"
      ],
      "metadata": {
        "colab": {
          "base_uri": "https://localhost:8080/"
        },
        "id": "kinxX-eqIsjP",
        "outputId": "e61bdbd7-6617-4f11-c778-d7468882530d"
      },
      "execution_count": 156,
      "outputs": [
        {
          "output_type": "execute_result",
          "data": {
            "text/plain": [
              "set"
            ]
          },
          "metadata": {},
          "execution_count": 156
        }
      ]
    },
    {
      "cell_type": "code",
      "source": [
        "myset={\"Audi\", \"Ford\", \"Tesla\", 5000, True}\n",
        "len(myset)"
      ],
      "metadata": {
        "colab": {
          "base_uri": "https://localhost:8080/"
        },
        "id": "niSWdQbyJCx_",
        "outputId": "0e7c379c-c20f-46f1-cfa0-1f45196c7607"
      },
      "execution_count": 157,
      "outputs": [
        {
          "output_type": "execute_result",
          "data": {
            "text/plain": [
              "5"
            ]
          },
          "metadata": {},
          "execution_count": 157
        }
      ]
    },
    {
      "cell_type": "code",
      "source": [
        "myset={\"Audi\", \"Ford\", \"Tesla\", 5000, True}\n",
        "for i in myset:\n",
        "  print(i)"
      ],
      "metadata": {
        "colab": {
          "base_uri": "https://localhost:8080/"
        },
        "id": "Pl_4epGaJNmK",
        "outputId": "a63ecfac-c2cd-40f8-c030-684ad7b40122"
      },
      "execution_count": 158,
      "outputs": [
        {
          "output_type": "stream",
          "name": "stdout",
          "text": [
            "True\n",
            "Ford\n",
            "5000\n",
            "Tesla\n",
            "Audi\n"
          ]
        }
      ]
    },
    {
      "cell_type": "code",
      "source": [],
      "metadata": {
        "id": "MNBPqW53JeC7"
      },
      "execution_count": null,
      "outputs": []
    },
    {
      "cell_type": "code",
      "source": [
        "myset={\"Audi\", \"Ford\", \"Tesla\", 5000, True}\n",
        "myset.add(\"BMW\")\n",
        "print(myset)"
      ],
      "metadata": {
        "colab": {
          "base_uri": "https://localhost:8080/"
        },
        "id": "dKQ3wXMTJ2uK",
        "outputId": "c7baeeb9-8eb0-449d-ca8f-8fbe44b97e07"
      },
      "execution_count": 159,
      "outputs": [
        {
          "output_type": "stream",
          "name": "stdout",
          "text": [
            "{True, 'Ford', 5000, 'Tesla', 'Audi', 'BMW'}\n"
          ]
        }
      ]
    },
    {
      "cell_type": "code",
      "source": [
        "myset={\"Audi\", \"Ford\", \"Tesla\", 5000, True}\n",
        "myset.pop()\n",
        "print(myset)"
      ],
      "metadata": {
        "colab": {
          "base_uri": "https://localhost:8080/"
        },
        "id": "1cx4XnCuKCzb",
        "outputId": "d13a3892-cedd-44d8-87de-01df000cd0a1"
      },
      "execution_count": 160,
      "outputs": [
        {
          "output_type": "stream",
          "name": "stdout",
          "text": [
            "{'Ford', 5000, 'Tesla', 'Audi'}\n"
          ]
        }
      ]
    },
    {
      "cell_type": "code",
      "source": [
        "myset1={3,4}\n",
        "myset2={1,2,3,4,5,6}\n",
        "myset3=myset1.intersection(myset2)\n",
        "print(myset2)"
      ],
      "metadata": {
        "colab": {
          "base_uri": "https://localhost:8080/"
        },
        "id": "HKmat1h5KP75",
        "outputId": "945e24cb-487e-4ae2-c61e-766177c1b6dc"
      },
      "execution_count": 162,
      "outputs": [
        {
          "output_type": "stream",
          "name": "stdout",
          "text": [
            "{1, 2, 3, 4, 5, 6}\n"
          ]
        }
      ]
    },
    {
      "cell_type": "code",
      "source": [
        "myset1={3,4}\n",
        "myset2={1,2,3,4,5,6}\n",
        "myset1.issubset(myset2)"
      ],
      "metadata": {
        "colab": {
          "base_uri": "https://localhost:8080/"
        },
        "id": "lZLptHHiK4p0",
        "outputId": "488ef6e7-f1fa-4ff0-9c6a-adee12316e52"
      },
      "execution_count": 163,
      "outputs": [
        {
          "output_type": "execute_result",
          "data": {
            "text/plain": [
              "True"
            ]
          },
          "metadata": {},
          "execution_count": 163
        }
      ]
    },
    {
      "cell_type": "code",
      "source": [
        "myset1={3,4}\n",
        "myset2={1,2,3,4,5,6}\n",
        "myset1.issuperset(myset2)"
      ],
      "metadata": {
        "colab": {
          "base_uri": "https://localhost:8080/"
        },
        "id": "mFqb_wvvLMQd",
        "outputId": "91bd50d0-48fe-47ca-e0fc-36528d014aac"
      },
      "execution_count": 164,
      "outputs": [
        {
          "output_type": "execute_result",
          "data": {
            "text/plain": [
              "False"
            ]
          },
          "metadata": {},
          "execution_count": 164
        }
      ]
    },
    {
      "cell_type": "code",
      "source": [
        "import numpy as np"
      ],
      "metadata": {
        "id": "eiIQyMiaNKAF"
      },
      "execution_count": 165,
      "outputs": []
    },
    {
      "cell_type": "code",
      "source": [
        "import pandas as pd"
      ],
      "metadata": {
        "id": "7sinHcECNQGR"
      },
      "execution_count": 166,
      "outputs": []
    },
    {
      "cell_type": "code",
      "source": [
        "import seaborn as sns"
      ],
      "metadata": {
        "id": "Jkh3-PcsNVJG"
      },
      "execution_count": 167,
      "outputs": []
    },
    {
      "cell_type": "code",
      "source": [
        "import matplotlib.pyplot as plt"
      ],
      "metadata": {
        "id": "g2rzIMFJNaU-"
      },
      "execution_count": 168,
      "outputs": []
    },
    {
      "cell_type": "code",
      "source": [
        "import math"
      ],
      "metadata": {
        "id": "MsCU4yReNgzT"
      },
      "execution_count": 169,
      "outputs": []
    },
    {
      "cell_type": "code",
      "source": [
        "import scipy"
      ],
      "metadata": {
        "id": "IV_gXBMdNj0g"
      },
      "execution_count": 170,
      "outputs": []
    },
    {
      "cell_type": "code",
      "source": [
        "import pyodbc"
      ],
      "metadata": {
        "colab": {
          "base_uri": "https://localhost:8080/",
          "height": 305
        },
        "id": "Fob9b87qN_Ja",
        "outputId": "154a82cf-4131-43c6-d657-fa8995bb6b4d"
      },
      "execution_count": 171,
      "outputs": [
        {
          "output_type": "error",
          "ename": "ModuleNotFoundError",
          "evalue": "ignored",
          "traceback": [
            "\u001b[0;31m---------------------------------------------------------------------------\u001b[0m",
            "\u001b[0;31mModuleNotFoundError\u001b[0m                       Traceback (most recent call last)",
            "\u001b[0;32m<ipython-input-171-0a9cb9987950>\u001b[0m in \u001b[0;36m<module>\u001b[0;34m\u001b[0m\n\u001b[0;32m----> 1\u001b[0;31m \u001b[0;32mimport\u001b[0m \u001b[0mpyodbc\u001b[0m\u001b[0;34m\u001b[0m\u001b[0;34m\u001b[0m\u001b[0m\n\u001b[0m",
            "\u001b[0;31mModuleNotFoundError\u001b[0m: No module named 'pyodbc'",
            "",
            "\u001b[0;31m---------------------------------------------------------------------------\u001b[0;32m\nNOTE: If your import is failing due to a missing package, you can\nmanually install dependencies using either !pip or !apt.\n\nTo view examples of installing some common dependencies, click the\n\"Open Examples\" button below.\n\u001b[0;31m---------------------------------------------------------------------------\u001b[0m\n"
          ],
          "errorDetails": {
            "actions": [
              {
                "action": "open_url",
                "actionText": "Open Examples",
                "url": "/notebooks/snippets/importing_libraries.ipynb"
              }
            ]
          }
        }
      ]
    },
    {
      "cell_type": "code",
      "source": [
        "!pip install pyodbc\n",
        "import pyodbc"
      ],
      "metadata": {
        "colab": {
          "base_uri": "https://localhost:8080/"
        },
        "id": "Twkn2o_KOFxB",
        "outputId": "2b1f234c-1842-487f-91e4-27b7ca81ab5f"
      },
      "execution_count": 172,
      "outputs": [
        {
          "output_type": "stream",
          "name": "stdout",
          "text": [
            "Looking in indexes: https://pypi.org/simple, https://us-python.pkg.dev/colab-wheels/public/simple/\n",
            "Collecting pyodbc\n",
            "  Downloading pyodbc-4.0.34-cp37-cp37m-manylinux_2_24_x86_64.whl (472 kB)\n",
            "\u001b[K     |████████████████████████████████| 472 kB 3.9 MB/s \n",
            "\u001b[?25hInstalling collected packages: pyodbc\n",
            "Successfully installed pyodbc-4.0.34\n"
          ]
        }
      ]
    }
  ]
}